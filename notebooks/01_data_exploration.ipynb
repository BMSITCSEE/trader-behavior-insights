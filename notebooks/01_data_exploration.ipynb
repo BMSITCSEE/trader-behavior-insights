{
 "cells": [
  {
   "cell_type": "markdown",
   "metadata": {},
   "source": [
    "# Data Exploration: Trader Behavior Insights\n",
    "\n",
    "This notebook explores the historical trader data and sentiment index."
   ]
  },
  {
   "cell_type": "code",
   "execution_count": null,
   "metadata": {},
   "outputs": [],
   "source": [
    "import pandas as pd\n",
    "import numpy as np\n",
    "import matplotlib.pyplot as plt\n",
    "import seaborn as sns\n",
    "import warnings\n",
    "warnings.filterwarnings('ignore')\n",
    "\n",
    "# Set display options\n",
    "pd.set_option('display.max_columns', None)\n",
    "pd.set_option('display.max_rows', 100)"
   ]
  },
  {
   "cell_type": "code",
   "execution_count": null,
   "metadata": {},
   "outputs": [],
   "source": [
    "# Load data\n",
    "trader_df = pd.read_csv('../data/raw/historical_trader_data.csv')\n",
    "sentiment_df = pd.read_csv('../data/raw/fear_greed_index.csv')\n",
    "\n",
    "print(f\"Trader data shape: {trader_df.shape}\")\n",
    "print(f\"Sentiment data shape: {sentiment_df.shape}\")"
   ]
  },
  {
   "cell_type": "code",
   "execution_count": null,
   "metadata": {},
   "outputs": [],
   "source": [
    "# Explore trader data\n",
    "print(\"Trader Data Columns:\")\n",
    "print(trader_df.columns.tolist())\n",
    "print(\"\\nFirst 5 rows:\")\n",
    "trader_df.head()"
   ]
  },
  {
   "cell_type": "code",
   "execution_count": null,
   "metadata": {},
   "outputs": [],
   "source": [
    "# Data types and missing values\n",
    "print(\"Data Types and Missing Values:\")\n",
    "info_df = pd.DataFrame({\n",
    "    'Column': trader_df.columns,\n",
    "    'Type': trader_df.dtypes,\n",
    "    'Missing': trader_df.isnull().sum(),\n",
    "    'Missing %': (trader_df.isnull().sum() / len(trader_df) * 100).round(2)\n",
    "})\n",
    "info_df"
   ]
  },
  {
   "cell_type": "code",
   "execution_count": null,
   "metadata": {},
   "outputs": [],
   "source": [
    "# Explore sentiment data\n",
    "print(\"Sentiment Data:\")\n",
    "print(sentiment_df.head())\n",
    "print(\"\\nSentiment Distribution:\")\n",
    "print(sentiment_df['Classification'].value_counts())"
   ]
  }
 ]
}